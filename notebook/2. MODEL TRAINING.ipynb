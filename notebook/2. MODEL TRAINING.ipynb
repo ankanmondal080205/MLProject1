{
 "cells": [
  {
   "attachments": {},
   "cell_type": "markdown",
   "id": "92e48866",
   "metadata": {},
   "source": [
    "## Model Training"
   ]
  },
  {
   "cell_type": "markdown",
   "id": "25791a74",
   "metadata": {},
   "source": [
    "#### 1.1 Import Data and Required Packages\n",
    "##### Importing Pandas, Numpy, Matplotlib, Seaborn and Warings Library."
   ]
  },
  {
   "cell_type": "code",
   "execution_count": 8,
   "id": "b080dfb2",
   "metadata": {},
   "outputs": [],
   "source": [
    "# Basic Import\n",
    "import numpy as np\n",
    "import pandas as pd\n",
    "import matplotlib.pyplot as plt \n",
    "import seaborn as sns\n",
    "# Modelling\n",
    "from sklearn.metrics import mean_squared_error, r2_score\n",
    "from sklearn.neighbors import KNeighborsRegressor\n",
    "from sklearn.tree import DecisionTreeRegressor\n",
    "from sklearn.ensemble import RandomForestRegressor,AdaBoostRegressor\n",
    "from sklearn.svm import SVR\n",
    "from sklearn.linear_model import LinearRegression, Ridge,Lasso\n",
    "from sklearn.metrics import r2_score, mean_absolute_error, mean_squared_error\n",
    "from sklearn.model_selection import RandomizedSearchCV\n",
    "from catboost import CatBoostRegressor\n",
    "from xgboost import XGBRegressor\n",
    "import warnings"
   ]
  },
  {
   "cell_type": "code",
   "execution_count": 7,
   "id": "7b55a8f7",
   "metadata": {},
   "outputs": [
    {
     "name": "stdout",
     "output_type": "stream",
     "text": [
      "Collecting xgboost\n",
      "  Downloading xgboost-2.1.4-py3-none-win_amd64.whl.metadata (2.1 kB)\n",
      "Requirement already satisfied: numpy in c:\\users\\user\\desktop\\python_ml\\mlproj1\\venv\\lib\\site-packages (from xgboost) (1.24.4)\n",
      "Requirement already satisfied: scipy in c:\\users\\user\\desktop\\python_ml\\mlproj1\\venv\\lib\\site-packages (from xgboost) (1.10.1)\n",
      "Downloading xgboost-2.1.4-py3-none-win_amd64.whl (124.9 MB)\n",
      "   ---------------------------------------- 0.0/124.9 MB ? eta -:--:--\n",
      "   ---------------------------------------- 1.0/124.9 MB 6.3 MB/s eta 0:00:20\n",
      "   ---------------------------------------- 1.3/124.9 MB 3.5 MB/s eta 0:00:36\n",
      "    --------------------------------------- 2.4/124.9 MB 3.9 MB/s eta 0:00:32\n",
      "    --------------------------------------- 2.9/124.9 MB 4.0 MB/s eta 0:00:31\n",
      "   - -------------------------------------- 3.7/124.9 MB 3.6 MB/s eta 0:00:34\n",
      "   - -------------------------------------- 4.2/124.9 MB 3.6 MB/s eta 0:00:34\n",
      "   - -------------------------------------- 5.5/124.9 MB 3.7 MB/s eta 0:00:33\n",
      "   -- ------------------------------------- 6.3/124.9 MB 3.7 MB/s eta 0:00:32\n",
      "   -- ------------------------------------- 7.1/124.9 MB 3.7 MB/s eta 0:00:32\n",
      "   -- ------------------------------------- 7.9/124.9 MB 3.7 MB/s eta 0:00:32\n",
      "   -- ------------------------------------- 8.7/124.9 MB 3.8 MB/s eta 0:00:31\n",
      "   --- ------------------------------------ 9.4/124.9 MB 3.8 MB/s eta 0:00:31\n",
      "   --- ------------------------------------ 10.2/124.9 MB 3.8 MB/s eta 0:00:31\n",
      "   --- ------------------------------------ 11.0/124.9 MB 3.8 MB/s eta 0:00:30\n",
      "   --- ------------------------------------ 11.8/124.9 MB 3.8 MB/s eta 0:00:30\n",
      "   ---- ----------------------------------- 12.6/124.9 MB 3.8 MB/s eta 0:00:30\n",
      "   ---- ----------------------------------- 13.4/124.9 MB 3.8 MB/s eta 0:00:30\n",
      "   ---- ----------------------------------- 14.2/124.9 MB 3.8 MB/s eta 0:00:30\n",
      "   ---- ----------------------------------- 15.2/124.9 MB 3.8 MB/s eta 0:00:29\n",
      "   ----- ---------------------------------- 16.0/124.9 MB 3.8 MB/s eta 0:00:29\n",
      "   ----- ---------------------------------- 16.8/124.9 MB 3.8 MB/s eta 0:00:29\n",
      "   ----- ---------------------------------- 17.6/124.9 MB 3.8 MB/s eta 0:00:29\n",
      "   ----- ---------------------------------- 18.4/124.9 MB 3.8 MB/s eta 0:00:28\n",
      "   ------ --------------------------------- 19.1/124.9 MB 3.8 MB/s eta 0:00:28\n",
      "   ------ --------------------------------- 19.9/124.9 MB 3.8 MB/s eta 0:00:28\n",
      "   ------ --------------------------------- 20.7/124.9 MB 3.8 MB/s eta 0:00:28\n",
      "   ------ --------------------------------- 21.8/124.9 MB 3.8 MB/s eta 0:00:27\n",
      "   ------- -------------------------------- 22.5/124.9 MB 3.8 MB/s eta 0:00:27\n",
      "   ------- -------------------------------- 23.3/124.9 MB 3.8 MB/s eta 0:00:27\n",
      "   ------- -------------------------------- 24.1/124.9 MB 3.8 MB/s eta 0:00:27\n",
      "   ------- -------------------------------- 24.9/124.9 MB 3.9 MB/s eta 0:00:26\n",
      "   -------- ------------------------------- 25.7/124.9 MB 3.9 MB/s eta 0:00:26\n",
      "   -------- ------------------------------- 26.7/124.9 MB 3.9 MB/s eta 0:00:26\n",
      "   -------- ------------------------------- 27.5/124.9 MB 3.9 MB/s eta 0:00:26\n",
      "   --------- ------------------------------ 28.3/124.9 MB 3.9 MB/s eta 0:00:26\n",
      "   --------- ------------------------------ 29.1/124.9 MB 3.9 MB/s eta 0:00:25\n",
      "   --------- ------------------------------ 29.9/124.9 MB 3.9 MB/s eta 0:00:25\n",
      "   --------- ------------------------------ 30.9/124.9 MB 3.9 MB/s eta 0:00:25\n",
      "   ---------- ----------------------------- 31.7/124.9 MB 3.9 MB/s eta 0:00:25\n",
      "   ---------- ----------------------------- 32.5/124.9 MB 3.9 MB/s eta 0:00:24\n",
      "   ---------- ----------------------------- 33.3/124.9 MB 3.9 MB/s eta 0:00:24\n",
      "   ---------- ----------------------------- 34.1/124.9 MB 3.9 MB/s eta 0:00:24\n",
      "   ----------- ---------------------------- 35.1/124.9 MB 3.9 MB/s eta 0:00:24\n",
      "   ----------- ---------------------------- 35.9/124.9 MB 3.9 MB/s eta 0:00:23\n",
      "   ----------- ---------------------------- 36.7/124.9 MB 3.9 MB/s eta 0:00:23\n",
      "   ------------ --------------------------- 37.5/124.9 MB 3.9 MB/s eta 0:00:23\n",
      "   ------------ --------------------------- 38.3/124.9 MB 3.9 MB/s eta 0:00:23\n",
      "   ------------ --------------------------- 39.1/124.9 MB 3.9 MB/s eta 0:00:23\n",
      "   ------------ --------------------------- 39.8/124.9 MB 3.9 MB/s eta 0:00:22\n",
      "   ------------- -------------------------- 40.6/124.9 MB 3.9 MB/s eta 0:00:22\n",
      "   ------------- -------------------------- 41.4/124.9 MB 3.9 MB/s eta 0:00:22\n",
      "   ------------- -------------------------- 42.5/124.9 MB 3.9 MB/s eta 0:00:22\n",
      "   ------------- -------------------------- 42.7/124.9 MB 3.9 MB/s eta 0:00:22\n",
      "   -------------- ------------------------- 44.0/124.9 MB 3.9 MB/s eta 0:00:21\n",
      "   -------------- ------------------------- 44.8/124.9 MB 3.9 MB/s eta 0:00:21\n",
      "   -------------- ------------------------- 45.6/124.9 MB 3.9 MB/s eta 0:00:21\n",
      "   -------------- ------------------------- 46.7/124.9 MB 3.9 MB/s eta 0:00:21\n",
      "   --------------- ------------------------ 47.4/124.9 MB 3.9 MB/s eta 0:00:20\n",
      "   --------------- ------------------------ 48.2/124.9 MB 3.9 MB/s eta 0:00:20\n",
      "   --------------- ------------------------ 49.0/124.9 MB 3.9 MB/s eta 0:00:20\n",
      "   --------------- ------------------------ 49.8/124.9 MB 3.9 MB/s eta 0:00:20\n",
      "   ---------------- ----------------------- 50.6/124.9 MB 3.9 MB/s eta 0:00:20\n",
      "   ---------------- ----------------------- 51.6/124.9 MB 3.9 MB/s eta 0:00:19\n",
      "   ---------------- ----------------------- 52.4/124.9 MB 3.9 MB/s eta 0:00:19\n",
      "   ----------------- ---------------------- 53.2/124.9 MB 3.9 MB/s eta 0:00:19\n",
      "   ----------------- ---------------------- 54.0/124.9 MB 3.9 MB/s eta 0:00:19\n",
      "   ----------------- ---------------------- 54.8/124.9 MB 3.9 MB/s eta 0:00:18\n",
      "   ----------------- ---------------------- 55.8/124.9 MB 3.9 MB/s eta 0:00:18\n",
      "   ------------------ --------------------- 56.6/124.9 MB 3.9 MB/s eta 0:00:18\n",
      "   ------------------ --------------------- 57.4/124.9 MB 3.9 MB/s eta 0:00:18\n",
      "   ------------------ --------------------- 58.2/124.9 MB 3.9 MB/s eta 0:00:18\n",
      "   ------------------ --------------------- 59.2/124.9 MB 3.9 MB/s eta 0:00:17\n",
      "   ------------------- -------------------- 60.0/124.9 MB 3.9 MB/s eta 0:00:17\n",
      "   ------------------- -------------------- 60.8/124.9 MB 3.9 MB/s eta 0:00:17\n",
      "   ------------------- -------------------- 61.6/124.9 MB 3.9 MB/s eta 0:00:17\n",
      "   -------------------- ------------------- 62.7/124.9 MB 3.9 MB/s eta 0:00:16\n",
      "   -------------------- ------------------- 63.2/124.9 MB 3.9 MB/s eta 0:00:16\n",
      "   -------------------- ------------------- 64.2/124.9 MB 3.9 MB/s eta 0:00:16\n",
      "   -------------------- ------------------- 65.3/124.9 MB 3.9 MB/s eta 0:00:16\n",
      "   --------------------- ------------------ 66.1/124.9 MB 3.9 MB/s eta 0:00:16\n",
      "   --------------------- ------------------ 66.8/124.9 MB 3.9 MB/s eta 0:00:15\n",
      "   --------------------- ------------------ 67.6/124.9 MB 3.9 MB/s eta 0:00:15\n",
      "   --------------------- ------------------ 68.4/124.9 MB 3.9 MB/s eta 0:00:15\n",
      "   ---------------------- ----------------- 69.2/124.9 MB 3.9 MB/s eta 0:00:15\n",
      "   ---------------------- ----------------- 70.3/124.9 MB 3.9 MB/s eta 0:00:14\n",
      "   ---------------------- ----------------- 71.0/124.9 MB 3.9 MB/s eta 0:00:14\n",
      "   ----------------------- ---------------- 71.8/124.9 MB 3.9 MB/s eta 0:00:14\n",
      "   ----------------------- ---------------- 72.9/124.9 MB 3.9 MB/s eta 0:00:14\n",
      "   ----------------------- ---------------- 73.7/124.9 MB 3.9 MB/s eta 0:00:14\n",
      "   ----------------------- ---------------- 74.4/124.9 MB 3.9 MB/s eta 0:00:13\n",
      "   ------------------------ --------------- 75.2/124.9 MB 3.9 MB/s eta 0:00:13\n",
      "   ------------------------ --------------- 76.0/124.9 MB 3.9 MB/s eta 0:00:13\n",
      "   ------------------------ --------------- 76.8/124.9 MB 3.9 MB/s eta 0:00:13\n",
      "   ------------------------ --------------- 77.6/124.9 MB 3.9 MB/s eta 0:00:13\n",
      "   ------------------------- -------------- 78.6/124.9 MB 3.9 MB/s eta 0:00:12\n",
      "   ------------------------- -------------- 79.4/124.9 MB 3.9 MB/s eta 0:00:12\n",
      "   ------------------------- -------------- 80.2/124.9 MB 3.9 MB/s eta 0:00:12\n",
      "   ------------------------- -------------- 81.0/124.9 MB 3.9 MB/s eta 0:00:12\n",
      "   -------------------------- ------------- 81.8/124.9 MB 3.9 MB/s eta 0:00:12\n",
      "   -------------------------- ------------- 82.8/124.9 MB 3.9 MB/s eta 0:00:11\n",
      "   -------------------------- ------------- 83.6/124.9 MB 3.9 MB/s eta 0:00:11\n",
      "   --------------------------- ------------ 84.4/124.9 MB 3.9 MB/s eta 0:00:11\n",
      "   --------------------------- ------------ 85.2/124.9 MB 3.9 MB/s eta 0:00:11\n",
      "   --------------------------- ------------ 86.0/124.9 MB 3.9 MB/s eta 0:00:10\n",
      "   --------------------------- ------------ 86.8/124.9 MB 3.9 MB/s eta 0:00:10\n",
      "   ---------------------------- ----------- 87.8/124.9 MB 3.9 MB/s eta 0:00:10\n",
      "   ---------------------------- ----------- 88.6/124.9 MB 3.9 MB/s eta 0:00:10\n",
      "   ---------------------------- ----------- 89.4/124.9 MB 3.9 MB/s eta 0:00:10\n",
      "   ---------------------------- ----------- 90.2/124.9 MB 3.9 MB/s eta 0:00:09\n",
      "   ----------------------------- ---------- 91.0/124.9 MB 3.9 MB/s eta 0:00:09\n",
      "   ----------------------------- ---------- 91.8/124.9 MB 3.9 MB/s eta 0:00:09\n",
      "   ----------------------------- ---------- 92.8/124.9 MB 3.9 MB/s eta 0:00:09\n",
      "   ----------------------------- ---------- 93.6/124.9 MB 3.9 MB/s eta 0:00:08\n",
      "   ------------------------------ --------- 94.4/124.9 MB 3.9 MB/s eta 0:00:08\n",
      "   ------------------------------ --------- 95.2/124.9 MB 3.9 MB/s eta 0:00:08\n",
      "   ------------------------------ --------- 96.2/124.9 MB 3.9 MB/s eta 0:00:08\n",
      "   ------------------------------- -------- 97.0/124.9 MB 3.9 MB/s eta 0:00:08\n",
      "   ------------------------------- -------- 97.8/124.9 MB 3.9 MB/s eta 0:00:07\n",
      "   ------------------------------- -------- 98.6/124.9 MB 3.9 MB/s eta 0:00:07\n",
      "   ------------------------------- -------- 99.4/124.9 MB 3.9 MB/s eta 0:00:07\n",
      "   -------------------------------- ------- 100.4/124.9 MB 3.9 MB/s eta 0:00:07\n",
      "   -------------------------------- ------- 101.2/124.9 MB 3.9 MB/s eta 0:00:07\n",
      "   -------------------------------- ------- 102.0/124.9 MB 3.9 MB/s eta 0:00:06\n",
      "   -------------------------------- ------- 102.8/124.9 MB 3.9 MB/s eta 0:00:06\n",
      "   --------------------------------- ------ 103.5/124.9 MB 3.9 MB/s eta 0:00:06\n",
      "   --------------------------------- ------ 104.6/124.9 MB 3.9 MB/s eta 0:00:06\n",
      "   --------------------------------- ------ 105.1/124.9 MB 3.9 MB/s eta 0:00:06\n",
      "   --------------------------------- ------ 106.2/124.9 MB 3.9 MB/s eta 0:00:05\n",
      "   ---------------------------------- ----- 107.0/124.9 MB 3.9 MB/s eta 0:00:05\n",
      "   ---------------------------------- ----- 107.7/124.9 MB 3.9 MB/s eta 0:00:05\n",
      "   ---------------------------------- ----- 108.8/124.9 MB 3.9 MB/s eta 0:00:05\n",
      "   ----------------------------------- ---- 109.6/124.9 MB 3.9 MB/s eta 0:00:04\n",
      "   ----------------------------------- ---- 110.4/124.9 MB 3.9 MB/s eta 0:00:04\n",
      "   ----------------------------------- ---- 111.1/124.9 MB 3.9 MB/s eta 0:00:04\n",
      "   ----------------------------------- ---- 111.9/124.9 MB 3.9 MB/s eta 0:00:04\n",
      "   ------------------------------------ --- 113.0/124.9 MB 3.9 MB/s eta 0:00:04\n",
      "   ------------------------------------ --- 113.8/124.9 MB 3.9 MB/s eta 0:00:03\n",
      "   ------------------------------------ --- 114.6/124.9 MB 3.9 MB/s eta 0:00:03\n",
      "   ------------------------------------ --- 115.3/124.9 MB 3.9 MB/s eta 0:00:03\n",
      "   ------------------------------------- -- 116.1/124.9 MB 3.9 MB/s eta 0:00:03\n",
      "   ------------------------------------- -- 116.9/124.9 MB 3.9 MB/s eta 0:00:03\n",
      "   ------------------------------------- -- 118.0/124.9 MB 3.9 MB/s eta 0:00:02\n",
      "   -------------------------------------- - 118.8/124.9 MB 3.9 MB/s eta 0:00:02\n",
      "   -------------------------------------- - 119.5/124.9 MB 3.9 MB/s eta 0:00:02\n",
      "   -------------------------------------- - 120.3/124.9 MB 3.9 MB/s eta 0:00:02\n",
      "   -------------------------------------- - 121.1/124.9 MB 3.9 MB/s eta 0:00:01\n",
      "   -------------------------------------- - 121.6/124.9 MB 3.9 MB/s eta 0:00:01\n",
      "   ---------------------------------------  122.9/124.9 MB 3.9 MB/s eta 0:00:01\n",
      "   ---------------------------------------  123.7/124.9 MB 3.9 MB/s eta 0:00:01\n",
      "   ---------------------------------------  124.5/124.9 MB 3.9 MB/s eta 0:00:01\n",
      "   ---------------------------------------  124.8/124.9 MB 3.9 MB/s eta 0:00:01\n",
      "   ---------------------------------------- 124.9/124.9 MB 3.9 MB/s eta 0:00:00\n",
      "Installing collected packages: xgboost\n",
      "Successfully installed xgboost-2.1.4\n"
     ]
    }
   ],
   "source": [
    "!pip install xgboost"
   ]
  },
  {
   "cell_type": "code",
   "execution_count": 5,
   "id": "9b9d3f2e",
   "metadata": {},
   "outputs": [
    {
     "name": "stdout",
     "output_type": "stream",
     "text": [
      "Collecting scikit-learn\n",
      "  Downloading scikit_learn-1.3.2-cp38-cp38-win_amd64.whl.metadata (11 kB)\n",
      "Requirement already satisfied: numpy<2.0,>=1.17.3 in c:\\users\\user\\desktop\\python_ml\\mlproj1\\venv\\lib\\site-packages (from scikit-learn) (1.24.4)\n",
      "Requirement already satisfied: scipy>=1.5.0 in c:\\users\\user\\desktop\\python_ml\\mlproj1\\venv\\lib\\site-packages (from scikit-learn) (1.10.1)\n",
      "Collecting joblib>=1.1.1 (from scikit-learn)\n",
      "  Using cached joblib-1.4.2-py3-none-any.whl.metadata (5.4 kB)\n",
      "Collecting threadpoolctl>=2.0.0 (from scikit-learn)\n",
      "  Using cached threadpoolctl-3.5.0-py3-none-any.whl.metadata (13 kB)\n",
      "Downloading scikit_learn-1.3.2-cp38-cp38-win_amd64.whl (9.3 MB)\n",
      "   ---------------------------------------- 0.0/9.3 MB ? eta -:--:--\n",
      "   ---- ----------------------------------- 1.0/9.3 MB 6.3 MB/s eta 0:00:02\n",
      "   ------- -------------------------------- 1.8/9.3 MB 4.8 MB/s eta 0:00:02\n",
      "   ----------- ---------------------------- 2.6/9.3 MB 4.6 MB/s eta 0:00:02\n",
      "   --------------- ------------------------ 3.7/9.3 MB 4.3 MB/s eta 0:00:02\n",
      "   ------------------- -------------------- 4.5/9.3 MB 4.3 MB/s eta 0:00:02\n",
      "   ---------------------- ----------------- 5.2/9.3 MB 4.2 MB/s eta 0:00:01\n",
      "   -------------------------- ------------- 6.0/9.3 MB 4.1 MB/s eta 0:00:01\n",
      "   ------------------------------ --------- 7.1/9.3 MB 4.1 MB/s eta 0:00:01\n",
      "   --------------------------------- ------ 7.9/9.3 MB 4.1 MB/s eta 0:00:01\n",
      "   ------------------------------------- -- 8.7/9.3 MB 4.1 MB/s eta 0:00:01\n",
      "   ---------------------------------------- 9.3/9.3 MB 4.0 MB/s eta 0:00:00\n",
      "Using cached joblib-1.4.2-py3-none-any.whl (301 kB)\n",
      "Using cached threadpoolctl-3.5.0-py3-none-any.whl (18 kB)\n",
      "Installing collected packages: threadpoolctl, joblib, scikit-learn\n",
      "Successfully installed joblib-1.4.2 scikit-learn-1.3.2 threadpoolctl-3.5.0\n"
     ]
    }
   ],
   "source": [
    "!pip install scikit-learn"
   ]
  },
  {
   "cell_type": "markdown",
   "id": "e45079ad",
   "metadata": {},
   "source": [
    "#### Import the CSV Data as Pandas DataFrame"
   ]
  },
  {
   "cell_type": "code",
   "execution_count": 9,
   "id": "e11c6255",
   "metadata": {},
   "outputs": [],
   "source": [
    "df = pd.read_csv('data/stud.csv')"
   ]
  },
  {
   "cell_type": "code",
   "execution_count": 1,
   "id": "0ec3cea8",
   "metadata": {},
   "outputs": [
    {
     "name": "stdout",
     "output_type": "stream",
     "text": [
      "Collecting dill\n",
      "  Downloading dill-0.4.0-py3-none-any.whl.metadata (10 kB)\n",
      "Downloading dill-0.4.0-py3-none-any.whl (119 kB)\n",
      "Installing collected packages: dill\n",
      "Successfully installed dill-0.4.0\n"
     ]
    }
   ],
   "source": [
    "!pip install dill"
   ]
  },
  {
   "cell_type": "markdown",
   "id": "20634923",
   "metadata": {},
   "source": [
    "#### Show Top 5 Records"
   ]
  },
  {
   "cell_type": "code",
   "execution_count": 10,
   "id": "e7e412a2",
   "metadata": {},
   "outputs": [
    {
     "data": {
      "text/html": [
       "<div>\n",
       "<style scoped>\n",
       "    .dataframe tbody tr th:only-of-type {\n",
       "        vertical-align: middle;\n",
       "    }\n",
       "\n",
       "    .dataframe tbody tr th {\n",
       "        vertical-align: top;\n",
       "    }\n",
       "\n",
       "    .dataframe thead th {\n",
       "        text-align: right;\n",
       "    }\n",
       "</style>\n",
       "<table border=\"1\" class=\"dataframe\">\n",
       "  <thead>\n",
       "    <tr style=\"text-align: right;\">\n",
       "      <th></th>\n",
       "      <th>gender</th>\n",
       "      <th>race_ethnicity</th>\n",
       "      <th>parental_level_of_education</th>\n",
       "      <th>lunch</th>\n",
       "      <th>test_preparation_course</th>\n",
       "      <th>math_score</th>\n",
       "      <th>reading_score</th>\n",
       "      <th>writing_score</th>\n",
       "    </tr>\n",
       "  </thead>\n",
       "  <tbody>\n",
       "    <tr>\n",
       "      <th>0</th>\n",
       "      <td>female</td>\n",
       "      <td>group B</td>\n",
       "      <td>bachelor's degree</td>\n",
       "      <td>standard</td>\n",
       "      <td>none</td>\n",
       "      <td>72</td>\n",
       "      <td>72</td>\n",
       "      <td>74</td>\n",
       "    </tr>\n",
       "    <tr>\n",
       "      <th>1</th>\n",
       "      <td>female</td>\n",
       "      <td>group C</td>\n",
       "      <td>some college</td>\n",
       "      <td>standard</td>\n",
       "      <td>completed</td>\n",
       "      <td>69</td>\n",
       "      <td>90</td>\n",
       "      <td>88</td>\n",
       "    </tr>\n",
       "    <tr>\n",
       "      <th>2</th>\n",
       "      <td>female</td>\n",
       "      <td>group B</td>\n",
       "      <td>master's degree</td>\n",
       "      <td>standard</td>\n",
       "      <td>none</td>\n",
       "      <td>90</td>\n",
       "      <td>95</td>\n",
       "      <td>93</td>\n",
       "    </tr>\n",
       "    <tr>\n",
       "      <th>3</th>\n",
       "      <td>male</td>\n",
       "      <td>group A</td>\n",
       "      <td>associate's degree</td>\n",
       "      <td>free/reduced</td>\n",
       "      <td>none</td>\n",
       "      <td>47</td>\n",
       "      <td>57</td>\n",
       "      <td>44</td>\n",
       "    </tr>\n",
       "    <tr>\n",
       "      <th>4</th>\n",
       "      <td>male</td>\n",
       "      <td>group C</td>\n",
       "      <td>some college</td>\n",
       "      <td>standard</td>\n",
       "      <td>none</td>\n",
       "      <td>76</td>\n",
       "      <td>78</td>\n",
       "      <td>75</td>\n",
       "    </tr>\n",
       "  </tbody>\n",
       "</table>\n",
       "</div>"
      ],
      "text/plain": [
       "   gender race_ethnicity parental_level_of_education         lunch  \\\n",
       "0  female        group B           bachelor's degree      standard   \n",
       "1  female        group C                some college      standard   \n",
       "2  female        group B             master's degree      standard   \n",
       "3    male        group A          associate's degree  free/reduced   \n",
       "4    male        group C                some college      standard   \n",
       "\n",
       "  test_preparation_course  math_score  reading_score  writing_score  \n",
       "0                    none          72             72             74  \n",
       "1               completed          69             90             88  \n",
       "2                    none          90             95             93  \n",
       "3                    none          47             57             44  \n",
       "4                    none          76             78             75  "
      ]
     },
     "execution_count": 10,
     "metadata": {},
     "output_type": "execute_result"
    }
   ],
   "source": [
    "df.head()"
   ]
  },
  {
   "cell_type": "markdown",
   "id": "fbd32281",
   "metadata": {},
   "source": [
    "#### Preparing X and Y variables"
   ]
  },
  {
   "cell_type": "code",
   "execution_count": 11,
   "id": "56d72fde",
   "metadata": {},
   "outputs": [],
   "source": [
    "X = df.drop(columns=['math_score'],axis=1)"
   ]
  },
  {
   "cell_type": "code",
   "execution_count": 12,
   "id": "cd613177",
   "metadata": {},
   "outputs": [
    {
     "data": {
      "text/html": [
       "<div>\n",
       "<style scoped>\n",
       "    .dataframe tbody tr th:only-of-type {\n",
       "        vertical-align: middle;\n",
       "    }\n",
       "\n",
       "    .dataframe tbody tr th {\n",
       "        vertical-align: top;\n",
       "    }\n",
       "\n",
       "    .dataframe thead th {\n",
       "        text-align: right;\n",
       "    }\n",
       "</style>\n",
       "<table border=\"1\" class=\"dataframe\">\n",
       "  <thead>\n",
       "    <tr style=\"text-align: right;\">\n",
       "      <th></th>\n",
       "      <th>gender</th>\n",
       "      <th>race_ethnicity</th>\n",
       "      <th>parental_level_of_education</th>\n",
       "      <th>lunch</th>\n",
       "      <th>test_preparation_course</th>\n",
       "      <th>reading_score</th>\n",
       "      <th>writing_score</th>\n",
       "    </tr>\n",
       "  </thead>\n",
       "  <tbody>\n",
       "    <tr>\n",
       "      <th>0</th>\n",
       "      <td>female</td>\n",
       "      <td>group B</td>\n",
       "      <td>bachelor's degree</td>\n",
       "      <td>standard</td>\n",
       "      <td>none</td>\n",
       "      <td>72</td>\n",
       "      <td>74</td>\n",
       "    </tr>\n",
       "    <tr>\n",
       "      <th>1</th>\n",
       "      <td>female</td>\n",
       "      <td>group C</td>\n",
       "      <td>some college</td>\n",
       "      <td>standard</td>\n",
       "      <td>completed</td>\n",
       "      <td>90</td>\n",
       "      <td>88</td>\n",
       "    </tr>\n",
       "    <tr>\n",
       "      <th>2</th>\n",
       "      <td>female</td>\n",
       "      <td>group B</td>\n",
       "      <td>master's degree</td>\n",
       "      <td>standard</td>\n",
       "      <td>none</td>\n",
       "      <td>95</td>\n",
       "      <td>93</td>\n",
       "    </tr>\n",
       "    <tr>\n",
       "      <th>3</th>\n",
       "      <td>male</td>\n",
       "      <td>group A</td>\n",
       "      <td>associate's degree</td>\n",
       "      <td>free/reduced</td>\n",
       "      <td>none</td>\n",
       "      <td>57</td>\n",
       "      <td>44</td>\n",
       "    </tr>\n",
       "    <tr>\n",
       "      <th>4</th>\n",
       "      <td>male</td>\n",
       "      <td>group C</td>\n",
       "      <td>some college</td>\n",
       "      <td>standard</td>\n",
       "      <td>none</td>\n",
       "      <td>78</td>\n",
       "      <td>75</td>\n",
       "    </tr>\n",
       "  </tbody>\n",
       "</table>\n",
       "</div>"
      ],
      "text/plain": [
       "   gender race_ethnicity parental_level_of_education         lunch  \\\n",
       "0  female        group B           bachelor's degree      standard   \n",
       "1  female        group C                some college      standard   \n",
       "2  female        group B             master's degree      standard   \n",
       "3    male        group A          associate's degree  free/reduced   \n",
       "4    male        group C                some college      standard   \n",
       "\n",
       "  test_preparation_course  reading_score  writing_score  \n",
       "0                    none             72             74  \n",
       "1               completed             90             88  \n",
       "2                    none             95             93  \n",
       "3                    none             57             44  \n",
       "4                    none             78             75  "
      ]
     },
     "execution_count": 12,
     "metadata": {},
     "output_type": "execute_result"
    }
   ],
   "source": [
    "X.head()"
   ]
  },
  {
   "cell_type": "code",
   "execution_count": 13,
   "id": "f237ea14",
   "metadata": {},
   "outputs": [
    {
     "name": "stdout",
     "output_type": "stream",
     "text": [
      "Categories in 'gender' variable:      ['female' 'male']\n",
      "Categories in 'race_ethnicity' variable:   ['group B' 'group C' 'group A' 'group D' 'group E']\n",
      "Categories in'parental level of education' variable: [\"bachelor's degree\" 'some college' \"master's degree\" \"associate's degree\"\n",
      " 'high school' 'some high school']\n",
      "Categories in 'lunch' variable:      ['standard' 'free/reduced']\n",
      "Categories in 'test preparation course' variable:      ['none' 'completed']\n"
     ]
    }
   ],
   "source": [
    "print(\"Categories in 'gender' variable:     \",end=\" \" )\n",
    "print(df['gender'].unique())\n",
    "\n",
    "print(\"Categories in 'race_ethnicity' variable:  \",end=\" \")\n",
    "print(df['race_ethnicity'].unique())\n",
    "\n",
    "print(\"Categories in'parental level of education' variable:\",end=\" \" )\n",
    "print(df['parental_level_of_education'].unique())\n",
    "\n",
    "print(\"Categories in 'lunch' variable:     \",end=\" \" )\n",
    "print(df['lunch'].unique())\n",
    "\n",
    "print(\"Categories in 'test preparation course' variable:     \",end=\" \" )\n",
    "print(df['test_preparation_course'].unique())"
   ]
  },
  {
   "cell_type": "code",
   "execution_count": 14,
   "id": "924b7f9d",
   "metadata": {},
   "outputs": [],
   "source": [
    "y = df['math_score']"
   ]
  },
  {
   "cell_type": "code",
   "execution_count": 15,
   "id": "ffc69816",
   "metadata": {},
   "outputs": [
    {
     "data": {
      "text/plain": [
       "0      72\n",
       "1      69\n",
       "2      90\n",
       "3      47\n",
       "4      76\n",
       "       ..\n",
       "995    88\n",
       "996    62\n",
       "997    59\n",
       "998    68\n",
       "999    77\n",
       "Name: math_score, Length: 1000, dtype: int64"
      ]
     },
     "execution_count": 15,
     "metadata": {},
     "output_type": "execute_result"
    }
   ],
   "source": [
    "y"
   ]
  },
  {
   "cell_type": "code",
   "execution_count": 16,
   "id": "1e290fe3",
   "metadata": {},
   "outputs": [],
   "source": [
    "# Create Column Transformer with 3 types of transformers\n",
    "num_features = X.select_dtypes(exclude=\"object\").columns\n",
    "cat_features = X.select_dtypes(include=\"object\").columns\n",
    "\n",
    "from sklearn.preprocessing import OneHotEncoder, StandardScaler\n",
    "from sklearn.compose import ColumnTransformer\n",
    "\n",
    "numeric_transformer = StandardScaler()\n",
    "oh_transformer = OneHotEncoder()\n",
    "\n",
    "preprocessor = ColumnTransformer(\n",
    "    [\n",
    "        (\"OneHotEncoder\", oh_transformer, cat_features),\n",
    "         (\"StandardScaler\", numeric_transformer, num_features),        \n",
    "    ]\n",
    ")"
   ]
  },
  {
   "cell_type": "code",
   "execution_count": 17,
   "id": "9c68f99a",
   "metadata": {},
   "outputs": [],
   "source": [
    "X = preprocessor.fit_transform(X)"
   ]
  },
  {
   "cell_type": "code",
   "execution_count": 18,
   "id": "72459f1d",
   "metadata": {},
   "outputs": [
    {
     "data": {
      "text/plain": [
       "(1000, 19)"
      ]
     },
     "execution_count": 18,
     "metadata": {},
     "output_type": "execute_result"
    }
   ],
   "source": [
    "X.shape"
   ]
  },
  {
   "cell_type": "code",
   "execution_count": 19,
   "id": "ed5c4e99",
   "metadata": {},
   "outputs": [
    {
     "data": {
      "text/plain": [
       "((800, 19), (200, 19))"
      ]
     },
     "execution_count": 19,
     "metadata": {},
     "output_type": "execute_result"
    }
   ],
   "source": [
    "# separate dataset into train and test\n",
    "from sklearn.model_selection import train_test_split\n",
    "X_train, X_test, y_train, y_test = train_test_split(X,y,test_size=0.2,random_state=42)\n",
    "X_train.shape, X_test.shape"
   ]
  },
  {
   "cell_type": "markdown",
   "id": "4cd80317",
   "metadata": {},
   "source": [
    "#### Create an Evaluate Function to give all metrics after model Training"
   ]
  },
  {
   "cell_type": "code",
   "execution_count": 20,
   "id": "8c247bd0",
   "metadata": {},
   "outputs": [],
   "source": [
    "def evaluate_model(true, predicted):\n",
    "    mae = mean_absolute_error(true, predicted)\n",
    "    mse = mean_squared_error(true, predicted)\n",
    "    rmse = np.sqrt(mean_squared_error(true, predicted))\n",
    "    r2_square = r2_score(true, predicted)\n",
    "    return mae, rmse, r2_square"
   ]
  },
  {
   "cell_type": "code",
   "execution_count": 21,
   "id": "79ccb8e7",
   "metadata": {
    "scrolled": false
   },
   "outputs": [
    {
     "name": "stdout",
     "output_type": "stream",
     "text": [
      "Linear Regression\n",
      "Model performance for Training set\n",
      "- Root Mean Squared Error: 5.3293\n",
      "- Mean Absolute Error: 4.2715\n",
      "- R2 Score: 0.8740\n",
      "----------------------------------\n",
      "Model performance for Test set\n",
      "- Root Mean Squared Error: 5.4252\n",
      "- Mean Absolute Error: 4.2222\n",
      "- R2 Score: 0.8790\n",
      "===================================\n",
      "\n",
      "\n",
      "Lasso\n",
      "Model performance for Training set\n",
      "- Root Mean Squared Error: 6.5938\n",
      "- Mean Absolute Error: 5.2063\n",
      "- R2 Score: 0.8071\n",
      "----------------------------------\n",
      "Model performance for Test set\n",
      "- Root Mean Squared Error: 6.5197\n",
      "- Mean Absolute Error: 5.1579\n",
      "- R2 Score: 0.8253\n",
      "===================================\n",
      "\n",
      "\n",
      "Ridge\n",
      "Model performance for Training set\n",
      "- Root Mean Squared Error: 5.3233\n",
      "- Mean Absolute Error: 4.2650\n",
      "- R2 Score: 0.8743\n",
      "----------------------------------\n",
      "Model performance for Test set\n",
      "- Root Mean Squared Error: 5.3904\n",
      "- Mean Absolute Error: 4.2111\n",
      "- R2 Score: 0.8806\n",
      "===================================\n",
      "\n",
      "\n",
      "K-Neighbors Regressor\n",
      "Model performance for Training set\n",
      "- Root Mean Squared Error: 5.7079\n",
      "- Mean Absolute Error: 4.5168\n",
      "- R2 Score: 0.8555\n",
      "----------------------------------\n",
      "Model performance for Test set\n",
      "- Root Mean Squared Error: 7.2530\n",
      "- Mean Absolute Error: 5.6210\n",
      "- R2 Score: 0.7838\n",
      "===================================\n",
      "\n",
      "\n",
      "Decision Tree\n",
      "Model performance for Training set\n",
      "- Root Mean Squared Error: 0.2795\n",
      "- Mean Absolute Error: 0.0187\n",
      "- R2 Score: 0.9997\n",
      "----------------------------------\n",
      "Model performance for Test set\n",
      "- Root Mean Squared Error: 7.6684\n",
      "- Mean Absolute Error: 6.1050\n",
      "- R2 Score: 0.7583\n",
      "===================================\n",
      "\n",
      "\n",
      "Random Forest Regressor\n",
      "Model performance for Training set\n",
      "- Root Mean Squared Error: 2.3289\n",
      "- Mean Absolute Error: 1.8534\n",
      "- R2 Score: 0.9759\n",
      "----------------------------------\n",
      "Model performance for Test set\n",
      "- Root Mean Squared Error: 6.0590\n",
      "- Mean Absolute Error: 4.6941\n",
      "- R2 Score: 0.8491\n",
      "===================================\n",
      "\n",
      "\n",
      "XGBRegressor\n",
      "Model performance for Training set\n",
      "- Root Mean Squared Error: 1.0073\n",
      "- Mean Absolute Error: 0.6875\n",
      "- R2 Score: 0.9955\n",
      "----------------------------------\n",
      "Model performance for Test set\n",
      "- Root Mean Squared Error: 6.4733\n",
      "- Mean Absolute Error: 5.0577\n",
      "- R2 Score: 0.8278\n",
      "===================================\n",
      "\n",
      "\n",
      "CatBoosting Regressor\n",
      "Model performance for Training set\n",
      "- Root Mean Squared Error: 3.0427\n",
      "- Mean Absolute Error: 2.4054\n",
      "- R2 Score: 0.9589\n",
      "----------------------------------\n",
      "Model performance for Test set\n",
      "- Root Mean Squared Error: 6.0086\n",
      "- Mean Absolute Error: 4.6125\n",
      "- R2 Score: 0.8516\n",
      "===================================\n",
      "\n",
      "\n",
      "AdaBoost Regressor\n",
      "Model performance for Training set\n",
      "- Root Mean Squared Error: 5.8271\n",
      "- Mean Absolute Error: 4.7765\n",
      "- R2 Score: 0.8494\n",
      "----------------------------------\n",
      "Model performance for Test set\n",
      "- Root Mean Squared Error: 6.1912\n",
      "- Mean Absolute Error: 4.8514\n",
      "- R2 Score: 0.8425\n",
      "===================================\n",
      "\n",
      "\n"
     ]
    }
   ],
   "source": [
    "models = {\n",
    "    \"Linear Regression\": LinearRegression(),\n",
    "    \"Lasso\": Lasso(),\n",
    "    \"Ridge\": Ridge(),\n",
    "    \"K-Neighbors Regressor\": KNeighborsRegressor(),\n",
    "    \"Decision Tree\": DecisionTreeRegressor(),\n",
    "    \"Random Forest Regressor\": RandomForestRegressor(),\n",
    "    \"XGBRegressor\": XGBRegressor(), \n",
    "    \"CatBoosting Regressor\": CatBoostRegressor(verbose=False),\n",
    "    \"AdaBoost Regressor\": AdaBoostRegressor()\n",
    "}\n",
    "model_list = []\n",
    "r2_list =[]\n",
    "\n",
    "for i in range(len(list(models))):\n",
    "    model = list(models.values())[i]\n",
    "    model.fit(X_train, y_train) # Train model\n",
    "\n",
    "    # Make predictions\n",
    "    y_train_pred = model.predict(X_train)\n",
    "    y_test_pred = model.predict(X_test)\n",
    "    \n",
    "    # Evaluate Train and Test dataset\n",
    "    model_train_mae , model_train_rmse, model_train_r2 = evaluate_model(y_train, y_train_pred)\n",
    "\n",
    "    model_test_mae , model_test_rmse, model_test_r2 = evaluate_model(y_test, y_test_pred)\n",
    "\n",
    "    \n",
    "    print(list(models.keys())[i])\n",
    "    model_list.append(list(models.keys())[i])\n",
    "    \n",
    "    print('Model performance for Training set')\n",
    "    print(\"- Root Mean Squared Error: {:.4f}\".format(model_train_rmse))\n",
    "    print(\"- Mean Absolute Error: {:.4f}\".format(model_train_mae))\n",
    "    print(\"- R2 Score: {:.4f}\".format(model_train_r2))\n",
    "\n",
    "    print('----------------------------------')\n",
    "    \n",
    "    print('Model performance for Test set')\n",
    "    print(\"- Root Mean Squared Error: {:.4f}\".format(model_test_rmse))\n",
    "    print(\"- Mean Absolute Error: {:.4f}\".format(model_test_mae))\n",
    "    print(\"- R2 Score: {:.4f}\".format(model_test_r2))\n",
    "    r2_list.append(model_test_r2)\n",
    "    \n",
    "    print('='*35)\n",
    "    print('\\n')"
   ]
  },
  {
   "cell_type": "markdown",
   "id": "06480b5a",
   "metadata": {},
   "source": [
    "### Results"
   ]
  },
  {
   "cell_type": "code",
   "execution_count": 22,
   "id": "e0159e5f",
   "metadata": {},
   "outputs": [
    {
     "data": {
      "text/html": [
       "<div>\n",
       "<style scoped>\n",
       "    .dataframe tbody tr th:only-of-type {\n",
       "        vertical-align: middle;\n",
       "    }\n",
       "\n",
       "    .dataframe tbody tr th {\n",
       "        vertical-align: top;\n",
       "    }\n",
       "\n",
       "    .dataframe thead th {\n",
       "        text-align: right;\n",
       "    }\n",
       "</style>\n",
       "<table border=\"1\" class=\"dataframe\">\n",
       "  <thead>\n",
       "    <tr style=\"text-align: right;\">\n",
       "      <th></th>\n",
       "      <th>Model Name</th>\n",
       "      <th>R2_Score</th>\n",
       "    </tr>\n",
       "  </thead>\n",
       "  <tbody>\n",
       "    <tr>\n",
       "      <th>2</th>\n",
       "      <td>Ridge</td>\n",
       "      <td>0.880593</td>\n",
       "    </tr>\n",
       "    <tr>\n",
       "      <th>0</th>\n",
       "      <td>Linear Regression</td>\n",
       "      <td>0.879046</td>\n",
       "    </tr>\n",
       "    <tr>\n",
       "      <th>7</th>\n",
       "      <td>CatBoosting Regressor</td>\n",
       "      <td>0.851632</td>\n",
       "    </tr>\n",
       "    <tr>\n",
       "      <th>5</th>\n",
       "      <td>Random Forest Regressor</td>\n",
       "      <td>0.849133</td>\n",
       "    </tr>\n",
       "    <tr>\n",
       "      <th>8</th>\n",
       "      <td>AdaBoost Regressor</td>\n",
       "      <td>0.842479</td>\n",
       "    </tr>\n",
       "    <tr>\n",
       "      <th>6</th>\n",
       "      <td>XGBRegressor</td>\n",
       "      <td>0.827797</td>\n",
       "    </tr>\n",
       "    <tr>\n",
       "      <th>1</th>\n",
       "      <td>Lasso</td>\n",
       "      <td>0.825320</td>\n",
       "    </tr>\n",
       "    <tr>\n",
       "      <th>3</th>\n",
       "      <td>K-Neighbors Regressor</td>\n",
       "      <td>0.783813</td>\n",
       "    </tr>\n",
       "    <tr>\n",
       "      <th>4</th>\n",
       "      <td>Decision Tree</td>\n",
       "      <td>0.758341</td>\n",
       "    </tr>\n",
       "  </tbody>\n",
       "</table>\n",
       "</div>"
      ],
      "text/plain": [
       "                Model Name  R2_Score\n",
       "2                    Ridge  0.880593\n",
       "0        Linear Regression  0.879046\n",
       "7    CatBoosting Regressor  0.851632\n",
       "5  Random Forest Regressor  0.849133\n",
       "8       AdaBoost Regressor  0.842479\n",
       "6             XGBRegressor  0.827797\n",
       "1                    Lasso  0.825320\n",
       "3    K-Neighbors Regressor  0.783813\n",
       "4            Decision Tree  0.758341"
      ]
     },
     "execution_count": 22,
     "metadata": {},
     "output_type": "execute_result"
    }
   ],
   "source": [
    "pd.DataFrame(list(zip(model_list, r2_list)), columns=['Model Name', 'R2_Score']).sort_values(by=[\"R2_Score\"],ascending=False)"
   ]
  },
  {
   "cell_type": "markdown",
   "id": "357a7c1c",
   "metadata": {},
   "source": [
    "## Linear Regression"
   ]
  },
  {
   "cell_type": "code",
   "execution_count": 24,
   "id": "9a6ad559",
   "metadata": {},
   "outputs": [
    {
     "name": "stdout",
     "output_type": "stream",
     "text": [
      " Accuracy of the model is 88.06\n"
     ]
    }
   ],
   "source": [
    "rid_model = Ridge(fit_intercept=True)\n",
    "rid_model = rid_model.fit(X_train, y_train)\n",
    "y_pred = rid_model.predict(X_test)\n",
    "score = r2_score(y_test, y_pred)*100\n",
    "print(\" Accuracy of the model is %.2f\" %score)"
   ]
  },
  {
   "cell_type": "markdown",
   "id": "1d31453e",
   "metadata": {},
   "source": [
    "## Plot y_pred and y_test"
   ]
  },
  {
   "cell_type": "code",
   "execution_count": 25,
   "id": "eb557b0a",
   "metadata": {},
   "outputs": [
    {
     "data": {
      "image/png": "[encoded data removed]",
      "text/plain": [
       "<Figure size 640x480 with 1 Axes>"
      ]
     },
     "metadata": {},
     "output_type": "display_data"
    }
   ],
   "source": [
    "plt.scatter(y_test,y_pred);\n",
    "plt.xlabel('Actual');\n",
    "plt.ylabel('Predicted');"
   ]
  },
  {
   "cell_type": "code",
   "execution_count": 26,
   "id": "1e707ec3",
   "metadata": {},
   "outputs": [
    {
     "data": {
      "image/png": "[encoded data removed]",
      "text/plain": [
       "<Figure size 640x480 with 1 Axes>"
      ]
     },
     "metadata": {},
     "output_type": "display_data"
    }
   ],
   "source": [
    "sns.regplot(x=y_test,y=y_pred,ci=None,color ='red');"
   ]
  },
  {
   "cell_type": "markdown",
   "id": "79c2fe28",
   "metadata": {},
   "source": [
    "#### Difference between Actual and Predicted Values"
   ]
  },
  {
   "cell_type": "code",
   "execution_count": 27,
   "id": "7c9a8b48",
   "metadata": {},
   "outputs": [
    {
     "data": {
      "text/html": [
       "<div>\n",
       "<style scoped>\n",
       "    .dataframe tbody tr th:only-of-type {\n",
       "        vertical-align: middle;\n",
       "    }\n",
       "\n",
       "    .dataframe tbody tr th {\n",
       "        vertical-align: top;\n",
       "    }\n",
       "\n",
       "    .dataframe thead th {\n",
       "        text-align: right;\n",
       "    }\n",
       "</style>\n",
       "<table border=\"1\" class=\"dataframe\">\n",
       "  <thead>\n",
       "    <tr style=\"text-align: right;\">\n",
       "      <th></th>\n",
       "      <th>Actual Value</th>\n",
       "      <th>Predicted Value</th>\n",
       "      <th>Difference</th>\n",
       "    </tr>\n",
       "  </thead>\n",
       "  <tbody>\n",
       "    <tr>\n",
       "      <th>521</th>\n",
       "      <td>91</td>\n",
       "      <td>76.398705</td>\n",
       "      <td>14.601295</td>\n",
       "    </tr>\n",
       "    <tr>\n",
       "      <th>737</th>\n",
       "      <td>53</td>\n",
       "      <td>58.842469</td>\n",
       "      <td>-5.842469</td>\n",
       "    </tr>\n",
       "    <tr>\n",
       "      <th>740</th>\n",
       "      <td>80</td>\n",
       "      <td>76.992129</td>\n",
       "      <td>3.007871</td>\n",
       "    </tr>\n",
       "    <tr>\n",
       "      <th>660</th>\n",
       "      <td>74</td>\n",
       "      <td>76.805898</td>\n",
       "      <td>-2.805898</td>\n",
       "    </tr>\n",
       "    <tr>\n",
       "      <th>411</th>\n",
       "      <td>84</td>\n",
       "      <td>87.615387</td>\n",
       "      <td>-3.615387</td>\n",
       "    </tr>\n",
       "    <tr>\n",
       "      <th>...</th>\n",
       "      <td>...</td>\n",
       "      <td>...</td>\n",
       "      <td>...</td>\n",
       "    </tr>\n",
       "    <tr>\n",
       "      <th>408</th>\n",
       "      <td>52</td>\n",
       "      <td>43.492293</td>\n",
       "      <td>8.507707</td>\n",
       "    </tr>\n",
       "    <tr>\n",
       "      <th>332</th>\n",
       "      <td>62</td>\n",
       "      <td>62.170763</td>\n",
       "      <td>-0.170763</td>\n",
       "    </tr>\n",
       "    <tr>\n",
       "      <th>208</th>\n",
       "      <td>74</td>\n",
       "      <td>67.910325</td>\n",
       "      <td>6.089675</td>\n",
       "    </tr>\n",
       "    <tr>\n",
       "      <th>613</th>\n",
       "      <td>65</td>\n",
       "      <td>67.061504</td>\n",
       "      <td>-2.061504</td>\n",
       "    </tr>\n",
       "    <tr>\n",
       "      <th>78</th>\n",
       "      <td>61</td>\n",
       "      <td>62.427189</td>\n",
       "      <td>-1.427189</td>\n",
       "    </tr>\n",
       "  </tbody>\n",
       "</table>\n",
       "<p>200 rows × 3 columns</p>\n",
       "</div>"
      ],
      "text/plain": [
       "     Actual Value  Predicted Value  Difference\n",
       "521            91        76.398705   14.601295\n",
       "737            53        58.842469   -5.842469\n",
       "740            80        76.992129    3.007871\n",
       "660            74        76.805898   -2.805898\n",
       "411            84        87.615387   -3.615387\n",
       "..            ...              ...         ...\n",
       "408            52        43.492293    8.507707\n",
       "332            62        62.170763   -0.170763\n",
       "208            74        67.910325    6.089675\n",
       "613            65        67.061504   -2.061504\n",
       "78             61        62.427189   -1.427189\n",
       "\n",
       "[200 rows x 3 columns]"
      ]
     },
     "execution_count": 27,
     "metadata": {},
     "output_type": "execute_result"
    }
   ],
   "source": [
    "pred_df=pd.DataFrame({'Actual Value':y_test,'Predicted Value':y_pred,'Difference':y_test-y_pred})\n",
    "pred_df"
   ]
  },
  {
   "cell_type": "code",
   "execution_count": null,
   "id": "3acf1fbc",
   "metadata": {},
   "outputs": [],
   "source": []
  }
 ],
 "metadata": {
  "kernelspec": {
   "display_name": "Python 3",
   "language": "python",
   "name": "python3"
  },
  "language_info": {
   "codemirror_mode": {
    "name": "ipython",
    "version": 3
   },
   "file_extension": ".py",
   "mimetype": "text/x-python",
   "name": "python",
   "nbconvert_exporter": "python",
   "pygments_lexer": "ipython3",
   "version": "3.8.20"
  }
 },
 "nbformat": 4,
 "nbformat_minor": 5
}
